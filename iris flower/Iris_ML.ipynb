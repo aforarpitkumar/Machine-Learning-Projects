{
 "cells": [
  {
   "cell_type": "markdown",
   "id": "3041ca33",
   "metadata": {},
   "source": [
    "# Importing the important libraries"
   ]
  },
  {
   "cell_type": "code",
   "execution_count": 1,
   "id": "eec00009",
   "metadata": {},
   "outputs": [],
   "source": [
    "from sklearn import datasets, linear_model\n",
    "from sklearn.neighbors import KNeighborsClassifier"
   ]
  },
  {
   "cell_type": "code",
   "execution_count": null,
   "id": "5001dd96",
   "metadata": {},
   "outputs": [],
   "source": [
    "# Loading Dataset"
   ]
  },
  {
   "cell_type": "code",
   "execution_count": 2,
   "id": "c8b42061",
   "metadata": {},
   "outputs": [],
   "source": [
    "iris = datasets.load_iris()\n",
    "\n",
    "features = iris.data\n",
    "labels = iris.target\n",
    "\n",
    "#print(iris.DESCR)\n",
    "\n",
    "#print(features[0], labels[0])"
   ]
  },
  {
   "cell_type": "code",
   "execution_count": null,
   "id": "0ce53970",
   "metadata": {},
   "outputs": [],
   "source": [
    "# Training the data set"
   ]
  },
  {
   "cell_type": "code",
   "execution_count": 3,
   "id": "c1b8fad2",
   "metadata": {},
   "outputs": [
    {
     "name": "stdout",
     "output_type": "stream",
     "text": [
      "Virginica\n"
     ]
    }
   ],
   "source": [
    "classifier1 = KNeighborsClassifier()\n",
    "\n",
    "classifier1.fit(features, labels)\n",
    "\n",
    "preds = classifier1.predict([[31,1,1,1]])\n",
    "\n",
    "ans = \"\";\n",
    "\n",
    "if (preds == 0):\n",
    "    ans = \"Setosa\"\n",
    "\n",
    "\n",
    "elif (preds == 1):\n",
    "    ans = \"Versicolour\"\n",
    "\n",
    "\n",
    "elif (preds == 2):\n",
    "    ans = \"Virginica\"\n",
    "\n",
    "\n",
    "print(ans)"
   ]
  },
  {
   "cell_type": "code",
   "execution_count": null,
   "id": "fb020c04",
   "metadata": {},
   "outputs": [],
   "source": []
  }
 ],
 "metadata": {
  "kernelspec": {
   "display_name": "Python 3 (ipykernel)",
   "language": "python",
   "name": "python3"
  },
  "language_info": {
   "codemirror_mode": {
    "name": "ipython",
    "version": 3
   },
   "file_extension": ".py",
   "mimetype": "text/x-python",
   "name": "python",
   "nbconvert_exporter": "python",
   "pygments_lexer": "ipython3",
   "version": "3.10.2"
  }
 },
 "nbformat": 4,
 "nbformat_minor": 5
}
